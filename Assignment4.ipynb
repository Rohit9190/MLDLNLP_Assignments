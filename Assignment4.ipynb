{
  "nbformat": 4,
  "nbformat_minor": 0,
  "metadata": {
    "colab": {
      "name": "Assignment4.ipynb",
      "provenance": [],
      "collapsed_sections": []
    },
    "kernelspec": {
      "name": "python3",
      "display_name": "Python 3"
    }
  },
  "cells": [
    {
      "cell_type": "code",
      "metadata": {
        "id": "-U7baw_Dlgp1",
        "colab_type": "code",
        "colab": {
          "base_uri": "https://localhost:8080/",
          "height": 50
        },
        "outputId": "0f77ed7a-2a77-4f6b-9941-86e1f07f7ad5"
      },
      "source": [
        "#Write a Python Program(with class concepts) to find the area of the triangle using the below formula. area = (s*(s-a)*(s-b)*(s-c)) ** 0.5\n",
        "#Function to take the length of the sides of triangle from user should be defined in the parent\n",
        "#class and function to calculate the area should be defined in subclass.\n",
        "class Triangle():\n",
        "  def __init__(self,n):\n",
        "    self.sides = n\n",
        "  def print_sides(self):\n",
        "    print(\"Number of sides\",str(self.sides))\n",
        "\n",
        "class Area(Triangle):\n",
        "  def __init__(self,length):\n",
        "    Triangle.__init__(self,3)\n",
        "    self.length = length\n",
        "  def get_area(self):\n",
        "    a,b,c = self.length\n",
        "    s = (a+b+c)/2\n",
        "    A = (s*(s-a)*(s-b)*(s-c))**0.5\n",
        "    return A\n",
        "\n",
        "T = Area([3,4,5])\n",
        "print(T.get_area())\n",
        "T.print_sides()"
      ],
      "execution_count": null,
      "outputs": [
        {
          "output_type": "stream",
          "text": [
            "6.0\n",
            "Number of sides 3\n"
          ],
          "name": "stdout"
        }
      ]
    },
    {
      "cell_type": "code",
      "metadata": {
        "id": "diOJygbPyii8",
        "colab_type": "code",
        "colab": {
          "base_uri": "https://localhost:8080/",
          "height": 34
        },
        "outputId": "152fd32f-50b3-4b20-a5ca-9e274366c741"
      },
      "source": [
        "#Write a function filter_long_words() that takes a list of words and an integer n and return the list of words that are longer than n.\n",
        "\n",
        "def filter_words(words,n):\n",
        "  return filter(lambda x:len(x)>n,words)\n",
        "\n",
        "list(filter_words(['Test','One','Together'],7))"
      ],
      "execution_count": null,
      "outputs": [
        {
          "output_type": "execute_result",
          "data": {
            "text/plain": [
              "['Together']"
            ]
          },
          "metadata": {
            "tags": []
          },
          "execution_count": 33
        }
      ]
    },
    {
      "cell_type": "code",
      "metadata": {
        "id": "TH4lXpZHCPqA",
        "colab_type": "code",
        "colab": {
          "base_uri": "https://localhost:8080/",
          "height": 34
        },
        "outputId": "7b16a1a0-9548-4296-a587-b1343cc9af98"
      },
      "source": [
        "#Write a Python program using function concept that maps list of words into a list of integer representing the lengths of the corresponding words.\n",
        "\n",
        "def A(words):\n",
        "  l = []\n",
        "  for x in words:\n",
        "    l.append(len(x))\n",
        "  return l\n",
        "\n",
        "words = map(A,('apple','mango','banana'))\n",
        "A(words)"
      ],
      "execution_count": null,
      "outputs": [
        {
          "output_type": "execute_result",
          "data": {
            "text/plain": [
              "[5, 5, 6]"
            ]
          },
          "metadata": {
            "tags": []
          },
          "execution_count": 34
        }
      ]
    },
    {
      "cell_type": "code",
      "metadata": {
        "id": "WVL-4C4Xds8S",
        "colab_type": "code",
        "colab": {
          "base_uri": "https://localhost:8080/",
          "height": 50
        },
        "outputId": "c32d3900-4cba-4234-d66f-38423406153f"
      },
      "source": [
        "#Write a Python function which takes a character (i.e. a string of length 1) and returns True it is a vowel, False otherwise.\n",
        "def is_vowel(char):\n",
        "  vowels = 'aeiou'\n",
        "  if char not in vowels:\n",
        "      return False\n",
        "  else:\n",
        "    return True\n",
        "\n",
        "char = input(\"Enter character: \")\n",
        "is_vowel(char)"
      ],
      "execution_count": null,
      "outputs": [
        {
          "output_type": "stream",
          "text": [
            "Enter character: e\n"
          ],
          "name": "stdout"
        },
        {
          "output_type": "execute_result",
          "data": {
            "text/plain": [
              "True"
            ]
          },
          "metadata": {
            "tags": []
          },
          "execution_count": 15
        }
      ]
    }
  ]
}