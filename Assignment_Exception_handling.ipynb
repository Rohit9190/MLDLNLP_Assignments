{
  "nbformat": 4,
  "nbformat_minor": 0,
  "metadata": {
    "colab": {
      "name": "Assignment Exception handling.ipynb",
      "provenance": [],
      "collapsed_sections": []
    },
    "kernelspec": {
      "name": "python3",
      "display_name": "Python 3"
    }
  },
  "cells": [
    {
      "cell_type": "code",
      "metadata": {
        "id": "qczKsZCm3sxS",
        "colab_type": "code",
        "colab": {
          "base_uri": "https://localhost:8080/",
          "height": 34
        },
        "outputId": "e724ed33-de97-49a7-da38-9a1bbabedb1d"
      },
      "source": [
        "#Write a function to compute 5/0 and use try/except to catch the exceptions.\n",
        "def Excep():\n",
        "  x = 5/0\n",
        "  return x\n",
        "try:\n",
        "  Excep()\n",
        "except Exception as e:\n",
        "  print(e)"
      ],
      "execution_count": null,
      "outputs": [
        {
          "output_type": "stream",
          "text": [
            "division by zero\n"
          ],
          "name": "stdout"
        }
      ]
    },
    {
      "cell_type": "code",
      "metadata": {
        "id": "vDNTPsMb4bjq",
        "colab_type": "code",
        "colab": {
          "base_uri": "https://localhost:8080/",
          "height": 151
        },
        "outputId": "7b8d0b6e-4a66-4c76-f808-06dd496a2430"
      },
      "source": [
        "#Implement a Python program to generate all sentences where subject is in [\"Americans\", \"Indians\"] and verb is in [\"Play\", \"watch\"] and the object is in [\"Baseball\",\"cricket\"].\n",
        "def Prog():\n",
        "  subject = [\"Americans\", \"Indians\"] \n",
        "  verb = [\"Play\", \"watch\"] \n",
        "  object = [\"Baseball\",\"cricket\"]\n",
        "  combine = [(s+\" \"+v+\" \"+o) for s in subject for v in verb for o in object] \n",
        "  for c in combine:\n",
        "    print(c)\n",
        "\n",
        "Prog()"
      ],
      "execution_count": null,
      "outputs": [
        {
          "output_type": "stream",
          "text": [
            "Americans Play Baseball\n",
            "Americans Play cricket\n",
            "Americans watch Baseball\n",
            "Americans watch cricket\n",
            "Indians Play Baseball\n",
            "Indians Play cricket\n",
            "Indians watch Baseball\n",
            "Indians watch cricket\n"
          ],
          "name": "stdout"
        }
      ]
    }
  ]
}