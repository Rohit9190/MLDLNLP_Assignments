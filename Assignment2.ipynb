{
  "nbformat": 4,
  "nbformat_minor": 0,
  "metadata": {
    "colab": {
      "name": "Assignment2.ipynb",
      "provenance": []
    },
    "kernelspec": {
      "name": "python3",
      "display_name": "Python 3"
    }
  },
  "cells": [
    {
      "cell_type": "code",
      "metadata": {
        "id": "UvJbE8ngCoki",
        "colab_type": "code",
        "colab": {}
      },
      "source": [
        "# Create a pattern using nested loop"
      ],
      "execution_count": null,
      "outputs": []
    },
    {
      "cell_type": "code",
      "metadata": {
        "id": "sz9wTZ8-Cydz",
        "colab_type": "code",
        "colab": {
          "base_uri": "https://localhost:8080/",
          "height": 151
        },
        "outputId": "1d32258e-e480-4122-e3f9-8a47b424ed0d"
      },
      "source": [
        "def pattern():\n",
        "  a = int(input(\"Enter The Number:\"))\n",
        "  for i in range(a):\n",
        "    print('* '*(i+1))\n",
        "  for i in range(a-1):\n",
        "    print('* '*(a-i-1))\n",
        "pattern()"
      ],
      "execution_count": null,
      "outputs": [
        {
          "output_type": "stream",
          "text": [
            "Enter The Number:4\n",
            "* \n",
            "* * \n",
            "* * * \n",
            "* * * * \n",
            "* * * \n",
            "* * \n",
            "* \n"
          ],
          "name": "stdout"
        }
      ]
    },
    {
      "cell_type": "code",
      "metadata": {
        "id": "R3EWL1I0DV1u",
        "colab_type": "code",
        "colab": {}
      },
      "source": [
        "# Print the entered word in reverse "
      ],
      "execution_count": null,
      "outputs": []
    },
    {
      "cell_type": "code",
      "metadata": {
        "id": "2gS5kJHuDdbW",
        "colab_type": "code",
        "colab": {
          "base_uri": "https://localhost:8080/",
          "height": 50
        },
        "outputId": "b5cff908-6c45-4631-d113-259685f1cf4e"
      },
      "source": [
        "a = input(\"Enter The Word:\")\n",
        "print(a[::-1])"
      ],
      "execution_count": null,
      "outputs": [
        {
          "output_type": "stream",
          "text": [
            "Enter The Word:apple\n",
            "elppa\n"
          ],
          "name": "stdout"
        }
      ]
    }
  ]
}